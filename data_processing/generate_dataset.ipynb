{
 "cells": [
  {
   "cell_type": "code",
   "execution_count": null,
   "metadata": {},
   "outputs": [],
   "source": []
  },
  {
   "cell_type": "code",
   "execution_count": 1,
   "metadata": {},
   "outputs": [
    {
     "name": "stdout",
     "output_type": "stream",
     "text": [
      "Requirement already satisfied: datasets in /Users/918739359/git-repos/visual-data-mining/venv/lib64/python3.11/site-packages (3.1.0)\n",
      "Requirement already satisfied: huggingface-hub in /Users/918739359/git-repos/visual-data-mining/venv/lib64/python3.11/site-packages (0.26.2)\n",
      "Requirement already satisfied: filelock in /Users/918739359/git-repos/visual-data-mining/venv/lib64/python3.11/site-packages (from datasets) (3.16.1)\n",
      "Requirement already satisfied: numpy>=1.17 in /Users/918739359/git-repos/visual-data-mining/venv/lib64/python3.11/site-packages (from datasets) (1.26.4)\n",
      "Requirement already satisfied: pyarrow>=15.0.0 in /Users/918739359/git-repos/visual-data-mining/venv/lib64/python3.11/site-packages (from datasets) (18.0.0)\n",
      "Requirement already satisfied: dill<0.3.9,>=0.3.0 in /Users/918739359/git-repos/visual-data-mining/venv/lib64/python3.11/site-packages (from datasets) (0.3.8)\n",
      "Requirement already satisfied: pandas in /Users/918739359/git-repos/visual-data-mining/venv/lib64/python3.11/site-packages (from datasets) (2.2.3)\n",
      "Requirement already satisfied: requests>=2.32.2 in /Users/918739359/git-repos/visual-data-mining/venv/lib64/python3.11/site-packages (from datasets) (2.32.3)\n",
      "Requirement already satisfied: tqdm>=4.66.3 in /Users/918739359/git-repos/visual-data-mining/venv/lib64/python3.11/site-packages (from datasets) (4.66.6)\n",
      "Requirement already satisfied: xxhash in /Users/918739359/git-repos/visual-data-mining/venv/lib64/python3.11/site-packages (from datasets) (3.5.0)\n",
      "Requirement already satisfied: multiprocess<0.70.17 in /Users/918739359/git-repos/visual-data-mining/venv/lib64/python3.11/site-packages (from datasets) (0.70.16)\n",
      "Requirement already satisfied: fsspec[http]<=2024.9.0,>=2023.1.0 in /Users/918739359/git-repos/visual-data-mining/venv/lib64/python3.11/site-packages (from datasets) (2024.9.0)\n",
      "Requirement already satisfied: aiohttp in /Users/918739359/git-repos/visual-data-mining/venv/lib64/python3.11/site-packages (from datasets) (3.10.10)\n",
      "Requirement already satisfied: packaging in /Users/918739359/git-repos/visual-data-mining/venv/lib64/python3.11/site-packages (from datasets) (24.1)\n",
      "Requirement already satisfied: pyyaml>=5.1 in /Users/918739359/git-repos/visual-data-mining/venv/lib64/python3.11/site-packages (from datasets) (6.0.1)\n",
      "Requirement already satisfied: typing-extensions>=3.7.4.3 in /Users/918739359/git-repos/visual-data-mining/venv/lib64/python3.11/site-packages (from huggingface-hub) (4.8.0)\n",
      "Requirement already satisfied: aiohappyeyeballs>=2.3.0 in /Users/918739359/git-repos/visual-data-mining/venv/lib64/python3.11/site-packages (from aiohttp->datasets) (2.4.3)\n",
      "Requirement already satisfied: aiosignal>=1.1.2 in /Users/918739359/git-repos/visual-data-mining/venv/lib64/python3.11/site-packages (from aiohttp->datasets) (1.3.1)\n",
      "Requirement already satisfied: attrs>=17.3.0 in /Users/918739359/git-repos/visual-data-mining/venv/lib64/python3.11/site-packages (from aiohttp->datasets) (24.2.0)\n",
      "Requirement already satisfied: frozenlist>=1.1.1 in /Users/918739359/git-repos/visual-data-mining/venv/lib64/python3.11/site-packages (from aiohttp->datasets) (1.5.0)\n",
      "Requirement already satisfied: multidict<7.0,>=4.5 in /Users/918739359/git-repos/visual-data-mining/venv/lib64/python3.11/site-packages (from aiohttp->datasets) (6.1.0)\n",
      "Requirement already satisfied: yarl<2.0,>=1.12.0 in /Users/918739359/git-repos/visual-data-mining/venv/lib64/python3.11/site-packages (from aiohttp->datasets) (1.17.1)\n",
      "Requirement already satisfied: charset-normalizer<4,>=2 in /Users/918739359/git-repos/visual-data-mining/venv/lib64/python3.11/site-packages (from requests>=2.32.2->datasets) (3.4.0)\n",
      "Requirement already satisfied: idna<4,>=2.5 in /Users/918739359/git-repos/visual-data-mining/venv/lib64/python3.11/site-packages (from requests>=2.32.2->datasets) (3.10)\n",
      "Requirement already satisfied: urllib3<3,>=1.21.1 in /Users/918739359/git-repos/visual-data-mining/venv/lib64/python3.11/site-packages (from requests>=2.32.2->datasets) (2.2.3)\n",
      "Requirement already satisfied: certifi>=2017.4.17 in /Users/918739359/git-repos/visual-data-mining/venv/lib64/python3.11/site-packages (from requests>=2.32.2->datasets) (2024.8.30)\n",
      "Requirement already satisfied: python-dateutil>=2.8.2 in /Users/918739359/git-repos/visual-data-mining/venv/lib64/python3.11/site-packages (from pandas->datasets) (2.8.2)\n",
      "Requirement already satisfied: pytz>=2020.1 in /Users/918739359/git-repos/visual-data-mining/venv/lib64/python3.11/site-packages (from pandas->datasets) (2024.2)\n",
      "Requirement already satisfied: tzdata>=2022.7 in /Users/918739359/git-repos/visual-data-mining/venv/lib64/python3.11/site-packages (from pandas->datasets) (2024.2)\n",
      "Requirement already satisfied: six>=1.5 in /Users/918739359/git-repos/visual-data-mining/venv/lib64/python3.11/site-packages (from python-dateutil>=2.8.2->pandas->datasets) (1.16.0)\n",
      "Requirement already satisfied: propcache>=0.2.0 in /Users/918739359/git-repos/visual-data-mining/venv/lib64/python3.11/site-packages (from yarl<2.0,>=1.12.0->aiohttp->datasets) (0.2.0)\n",
      "\n",
      "\u001b[1m[\u001b[0m\u001b[34;49mnotice\u001b[0m\u001b[1;39;49m]\u001b[0m\u001b[39;49m A new release of pip available: \u001b[0m\u001b[31;49m22.3.1\u001b[0m\u001b[39;49m -> \u001b[0m\u001b[32;49m25.0.1\u001b[0m\n",
      "\u001b[1m[\u001b[0m\u001b[34;49mnotice\u001b[0m\u001b[1;39;49m]\u001b[0m\u001b[39;49m To update, run: \u001b[0m\u001b[32;49mpip install --upgrade pip\u001b[0m\n"
     ]
    }
   ],
   "source": [
    "!pip3 install datasets huggingface-hub"
   ]
  },
  {
   "cell_type": "code",
   "execution_count": 2,
   "metadata": {},
   "outputs": [
    {
     "data": {
      "application/vnd.jupyter.widget-view+json": {
       "model_id": "b9a2739a886b4ad89e0d81bcca225023",
       "version_major": 2,
       "version_minor": 0
      },
      "text/plain": [
       "Resolving data files:   0%|          | 0/22 [00:00<?, ?it/s]"
      ]
     },
     "metadata": {},
     "output_type": "display_data"
    },
    {
     "data": {
      "application/vnd.jupyter.widget-view+json": {
       "model_id": "979c9bf163c743af8dde91fbab479f22",
       "version_major": 2,
       "version_minor": 0
      },
      "text/plain": [
       "Resolving data files:   0%|          | 0/22 [00:00<?, ?it/s]"
      ]
     },
     "metadata": {},
     "output_type": "display_data"
    },
    {
     "data": {
      "application/vnd.jupyter.widget-view+json": {
       "model_id": "41b669c24c6342bab4551fcc62e40918",
       "version_major": 2,
       "version_minor": 0
      },
      "text/plain": [
       "Loading dataset shards:   0%|          | 0/24 [00:00<?, ?it/s]"
      ]
     },
     "metadata": {},
     "output_type": "display_data"
    },
    {
     "name": "stdout",
     "output_type": "stream",
     "text": [
      "['image', 'instruction', 'bbox', 'resolution', 'source', 'platform', 'name', 'description', 'type', 'OCR', 'language', 'purpose', 'expectation']\n"
     ]
    }
   ],
   "source": [
    "from datasets import load_dataset\n",
    "\n",
    "# Load the dataset with parallel processing\n",
    "dataset = load_dataset(\"agentsea/wave-ui-25k\", num_proc=16)\n",
    "\n",
    "# Take a subset of the dataset with just 100 images\n",
    "#subset_dataset = dataset['train'].select(range(100))\n",
    "\n",
    "# Filter the subset dataset based on language and platform criteria\n",
    "filtered_dataset = dataset[\"train\"].filter(\n",
    "    lambda x: x['language'] is not None \n",
    "    and 'English' in x['language']\n",
    "    and x['platform'] is not None \n",
    "    and 'web' in x['platform'],\n",
    "    num_proc = 16\n",
    ")\n",
    "\n",
    "print(filtered_dataset.column_names)\n"
   ]
  },
  {
   "cell_type": "code",
   "execution_count": null,
   "metadata": {},
   "outputs": [],
   "source": []
  },
  {
   "cell_type": "code",
   "execution_count": 3,
   "metadata": {},
   "outputs": [],
   "source": [
    "def format_instruction(example):\n",
    "        instruction = f\"\"\"Return the bounding box of the {example['description']}. It's used to {example['purpose']} and if we click it {example['expectation']}.\"\"\"\n",
    "        bbox = example['bbox']\n",
    "        x_res, y_res = example['resolution']\n",
    "        #bounding boxes are in percentage of the screen in format [x1,y1,x2,y2] \n",
    "        bbox[0] = bbox[0] / x_res * 100\n",
    "        bbox[1] = bbox[1] / y_res * 100\n",
    "        bbox[2] = bbox[2] / x_res * 100\n",
    "        bbox[3] = bbox[3] / y_res * 100\n",
    "        bbox = [round(x, 2) for x in bbox]  # Limit to two decimal places\n",
    "        #print(bbox)\n",
    "        reply = f\"\"\"{str(bbox)}\"\"\"\n",
    "        \n",
    "        # Create messages format\n",
    "        messages = [ { \"user\": instruction, \"assistant\": reply, \"source\": \"web_scraper\" } ]\n",
    "\n",
    "        \n",
    "        return messages\n"
   ]
  },
  {
   "cell_type": "code",
   "execution_count": 4,
   "metadata": {},
   "outputs": [],
   "source": [
    "def format_instruction(example):\n",
    "    instruction = f\"\"\"Return the center coordinates of the {example['description']}. It's used to {example['purpose']} and if we click it {example['expectation']}.\"\"\"\n",
    "    bbox = example['bbox']\n",
    "    x_res, y_res = example['resolution']\n",
    "    \n",
    "    # Convert bounding box from pixels to percentage of screen resolution\n",
    "    x1, y1, x2, y2 = bbox\n",
    "    x1 = x1 / x_res * 100\n",
    "    y1 = y1 / y_res * 100\n",
    "    x2 = x2 / x_res * 100\n",
    "    y2 = y2 / y_res * 100\n",
    "\n",
    "    # Calculate center point in percentage\n",
    "    x_center = round((x1 + x2) / 2, 2)\n",
    "    y_center = round((y1 + y2) / 2, 2)\n",
    "\n",
    "    center = [x_center, y_center]\n",
    "    \n",
    "    reply = f\"\"\"{str(center)}\"\"\"\n",
    "    \n",
    "    # Create messages format\n",
    "    messages = [{\"user\": instruction, \"assistant\": reply, \"source\": \"web_scraper\"}]\n",
    "    \n",
    "    return messages\n"
   ]
  },
  {
   "cell_type": "code",
   "execution_count": null,
   "metadata": {},
   "outputs": [],
   "source": []
  },
  {
   "cell_type": "code",
   "execution_count": 5,
   "metadata": {},
   "outputs": [
    {
     "name": "stdout",
     "output_type": "stream",
     "text": [
      "['images', 'texts']\n"
     ]
    }
   ],
   "source": [
    "from PIL import Image\n",
    "\n",
    "def resize_with_aspect_limit(example, max_size=(1120, 1120)):\n",
    "    \"\"\"\n",
    "    Resize the image in the example to the largest possible size within max_size,\n",
    "    preserving the original aspect ratio. No padding, no distortion.\n",
    "\n",
    "    Parameters:\n",
    "    - example: dict with key 'images' as a PIL image\n",
    "    - max_size: (max_width, max_height) resolution limit\n",
    "\n",
    "    Returns:\n",
    "    - modified example with resized image\n",
    "    \"\"\"\n",
    "    image = example[\"images\"]\n",
    "    image = image.convert(\"RGB\")  # Strip alpha just in case\n",
    "    \n",
    "    original_width, original_height = image.size\n",
    "    max_width, max_height = max_size\n",
    "\n",
    "    # Compute the scaling factor\n",
    "    scale_factor = min(max_width / original_width, max_height / original_height, 1.0)\n",
    "    new_width = int(original_width * scale_factor)\n",
    "    new_height = int(original_height * scale_factor)\n",
    "\n",
    "    # Resize\n",
    "    resized_image = image.resize((new_width, new_height), Image.LANCZOS)\n",
    "    \n",
    "    # Update the example\n",
    "    example[\"images\"] = resized_image\n",
    "    return example\n",
    "\n",
    "# Apply text formatting\n",
    "filtered_dataset_formatted = filtered_dataset.map(lambda x: {\n",
    "    \"texts\": format_instruction(x)\n",
    "})\n",
    "\n",
    "# Rename 'image' column to 'images' BEFORE resizing\n",
    "filtered_dataset_formatted = filtered_dataset_formatted.rename_column(\"image\", \"images\")\n",
    "\n",
    "# ✅ Resize images AFTER renaming 'image' to 'images'\n",
    "filtered_dataset_formatted = filtered_dataset_formatted.map(resize_with_aspect_limit, num_proc=16)\n",
    "\n",
    "# Drop unneeded columns\n",
    "filtered_dataset_formatted = filtered_dataset_formatted.remove_columns([ \n",
    "    'instruction', 'bbox', 'resolution', 'source', 'platform', 'name', \n",
    "    'description', 'type', 'OCR', 'language', 'purpose', 'expectation'\n",
    "])\n",
    "\n",
    "# Print the final column names\n",
    "print(filtered_dataset_formatted.column_names)\n"
   ]
  },
  {
   "cell_type": "code",
   "execution_count": 6,
   "metadata": {},
   "outputs": [
    {
     "name": "stdout",
     "output_type": "stream",
     "text": [
      "<PIL.PngImagePlugin.PngImageFile image mode=RGB size=1120x630 at 0x7FF36C672050>\n"
     ]
    }
   ],
   "source": [
    "print(filtered_dataset_formatted[0]['images'])\n",
    "\n",
    "#print(filtered_dataset_formatted['train'][0]['images'])\n",
    "\n",
    "\n"
   ]
  },
  {
   "cell_type": "code",
   "execution_count": 7,
   "metadata": {},
   "outputs": [
    {
     "data": {
      "application/vnd.jupyter.widget-view+json": {
       "model_id": "4645392ed0044a94a17a7313009ffcd6",
       "version_major": 2,
       "version_minor": 0
      },
      "text/plain": [
       "Resolving data files:   0%|          | 0/22 [00:00<?, ?it/s]"
      ]
     },
     "metadata": {},
     "output_type": "display_data"
    },
    {
     "data": {
      "application/vnd.jupyter.widget-view+json": {
       "model_id": "869c2dac1f284ee3933ce331b63a8e6d",
       "version_major": 2,
       "version_minor": 0
      },
      "text/plain": [
       "Resolving data files:   0%|          | 0/22 [00:00<?, ?it/s]"
      ]
     },
     "metadata": {},
     "output_type": "display_data"
    },
    {
     "data": {
      "application/vnd.jupyter.widget-view+json": {
       "model_id": "0e5836ea2b9a4d52843d5d84212e2cd5",
       "version_major": 2,
       "version_minor": 0
      },
      "text/plain": [
       "Loading dataset shards:   0%|          | 0/24 [00:00<?, ?it/s]"
      ]
     },
     "metadata": {},
     "output_type": "display_data"
    },
    {
     "name": "stdout",
     "output_type": "stream",
     "text": [
      "['image', 'instruction', 'bbox', 'resolution', 'source', 'platform', 'name', 'description', 'type', 'OCR', 'language', 'purpose', 'expectation']\n"
     ]
    },
    {
     "data": {
      "application/vnd.jupyter.widget-view+json": {
       "model_id": "c290f056cd9f46839fd615f76653d2df",
       "version_major": 2,
       "version_minor": 0
      },
      "text/plain": [
       "Map:   0%|          | 0/15937 [00:00<?, ? examples/s]"
      ]
     },
     "metadata": {},
     "output_type": "display_data"
    },
    {
     "data": {
      "application/vnd.jupyter.widget-view+json": {
       "model_id": "444ccc4e045c442285c1732579ffc5ae",
       "version_major": 2,
       "version_minor": 0
      },
      "text/plain": [
       "Map (num_proc=16):   0%|          | 0/15937 [00:00<?, ? examples/s]"
      ]
     },
     "metadata": {},
     "output_type": "display_data"
    },
    {
     "name": "stdout",
     "output_type": "stream",
     "text": [
      "['images', 'texts']\n",
      "\n",
      "Sample of filtered data:\n",
      "Dataset({\n",
      "    features: ['images', 'texts'],\n",
      "    num_rows: 5\n",
      "})\n"
     ]
    },
    {
     "data": {
      "application/vnd.jupyter.widget-view+json": {
       "model_id": "3f54311b0227419aa7304ef11d63c178",
       "version_major": 2,
       "version_minor": 0
      },
      "text/plain": [
       "Uploading the dataset shards:   0%|          | 0/13 [00:00<?, ?it/s]"
      ]
     },
     "metadata": {},
     "output_type": "display_data"
    },
    {
     "data": {
      "application/vnd.jupyter.widget-view+json": {
       "model_id": "8ba10a9ff4ac436787a0ca17e5ca83c0",
       "version_major": 2,
       "version_minor": 0
      },
      "text/plain": [
       "Map:   0%|          | 0/1226 [00:00<?, ? examples/s]"
      ]
     },
     "metadata": {},
     "output_type": "display_data"
    },
    {
     "data": {
      "application/vnd.jupyter.widget-view+json": {
       "model_id": "3868c33e8f044781819b79b2c21fbff0",
       "version_major": 2,
       "version_minor": 0
      },
      "text/plain": [
       "Creating parquet from Arrow format:   0%|          | 0/13 [00:00<?, ?ba/s]"
      ]
     },
     "metadata": {},
     "output_type": "display_data"
    },
    {
     "data": {
      "application/vnd.jupyter.widget-view+json": {
       "model_id": "ed9eab46cedd4e07a1bac263caa8d4bb",
       "version_major": 2,
       "version_minor": 0
      },
      "text/plain": [
       "Map:   0%|          | 0/1226 [00:00<?, ? examples/s]"
      ]
     },
     "metadata": {},
     "output_type": "display_data"
    },
    {
     "data": {
      "application/vnd.jupyter.widget-view+json": {
       "model_id": "a5b77745fcc645cabcbf7333e34b84b6",
       "version_major": 2,
       "version_minor": 0
      },
      "text/plain": [
       "Creating parquet from Arrow format:   0%|          | 0/13 [00:00<?, ?ba/s]"
      ]
     },
     "metadata": {},
     "output_type": "display_data"
    },
    {
     "data": {
      "application/vnd.jupyter.widget-view+json": {
       "model_id": "ea188455ff6343b5aa19060c73dddde5",
       "version_major": 2,
       "version_minor": 0
      },
      "text/plain": [
       "Map:   0%|          | 0/1226 [00:00<?, ? examples/s]"
      ]
     },
     "metadata": {},
     "output_type": "display_data"
    },
    {
     "data": {
      "application/vnd.jupyter.widget-view+json": {
       "model_id": "bbb5aa0a7a0e4337a6a5914084200215",
       "version_major": 2,
       "version_minor": 0
      },
      "text/plain": [
       "Creating parquet from Arrow format:   0%|          | 0/13 [00:00<?, ?ba/s]"
      ]
     },
     "metadata": {},
     "output_type": "display_data"
    },
    {
     "data": {
      "application/vnd.jupyter.widget-view+json": {
       "model_id": "a4cdd41ccb8643f88d68889d019e8d39",
       "version_major": 2,
       "version_minor": 0
      },
      "text/plain": [
       "Map:   0%|          | 0/1226 [00:00<?, ? examples/s]"
      ]
     },
     "metadata": {},
     "output_type": "display_data"
    },
    {
     "data": {
      "application/vnd.jupyter.widget-view+json": {
       "model_id": "af49934314a94c0aab822c1e02d0d34c",
       "version_major": 2,
       "version_minor": 0
      },
      "text/plain": [
       "Creating parquet from Arrow format:   0%|          | 0/13 [00:00<?, ?ba/s]"
      ]
     },
     "metadata": {},
     "output_type": "display_data"
    },
    {
     "data": {
      "application/vnd.jupyter.widget-view+json": {
       "model_id": "fb1338758e0a4e99998197aa2fae43ef",
       "version_major": 2,
       "version_minor": 0
      },
      "text/plain": [
       "Map:   0%|          | 0/1226 [00:00<?, ? examples/s]"
      ]
     },
     "metadata": {},
     "output_type": "display_data"
    },
    {
     "data": {
      "application/vnd.jupyter.widget-view+json": {
       "model_id": "ab3d4b82a21643afb1f19a860e20e43f",
       "version_major": 2,
       "version_minor": 0
      },
      "text/plain": [
       "Creating parquet from Arrow format:   0%|          | 0/13 [00:00<?, ?ba/s]"
      ]
     },
     "metadata": {},
     "output_type": "display_data"
    },
    {
     "data": {
      "application/vnd.jupyter.widget-view+json": {
       "model_id": "99eb08291a584b6888f39c6b402dd7df",
       "version_major": 2,
       "version_minor": 0
      },
      "text/plain": [
       "Map:   0%|          | 0/1226 [00:00<?, ? examples/s]"
      ]
     },
     "metadata": {},
     "output_type": "display_data"
    },
    {
     "data": {
      "application/vnd.jupyter.widget-view+json": {
       "model_id": "880c69798b104d48b3a0af5f5e72062f",
       "version_major": 2,
       "version_minor": 0
      },
      "text/plain": [
       "Creating parquet from Arrow format:   0%|          | 0/13 [00:00<?, ?ba/s]"
      ]
     },
     "metadata": {},
     "output_type": "display_data"
    },
    {
     "data": {
      "application/vnd.jupyter.widget-view+json": {
       "model_id": "05c832a5dd0b42358e68ec7a967aa5e7",
       "version_major": 2,
       "version_minor": 0
      },
      "text/plain": [
       "Map:   0%|          | 0/1226 [00:00<?, ? examples/s]"
      ]
     },
     "metadata": {},
     "output_type": "display_data"
    },
    {
     "data": {
      "application/vnd.jupyter.widget-view+json": {
       "model_id": "fb27d04513ae47008ee67227898cc99f",
       "version_major": 2,
       "version_minor": 0
      },
      "text/plain": [
       "Creating parquet from Arrow format:   0%|          | 0/13 [00:00<?, ?ba/s]"
      ]
     },
     "metadata": {},
     "output_type": "display_data"
    },
    {
     "data": {
      "application/vnd.jupyter.widget-view+json": {
       "model_id": "a523d677bc8e4fe1acd55a40254c0b9c",
       "version_major": 2,
       "version_minor": 0
      },
      "text/plain": [
       "Map:   0%|          | 0/1226 [00:00<?, ? examples/s]"
      ]
     },
     "metadata": {},
     "output_type": "display_data"
    },
    {
     "data": {
      "application/vnd.jupyter.widget-view+json": {
       "model_id": "094510530126489eb2297d696875d345",
       "version_major": 2,
       "version_minor": 0
      },
      "text/plain": [
       "Creating parquet from Arrow format:   0%|          | 0/13 [00:00<?, ?ba/s]"
      ]
     },
     "metadata": {},
     "output_type": "display_data"
    },
    {
     "data": {
      "application/vnd.jupyter.widget-view+json": {
       "model_id": "581068b8fba14e0f9c7f28ceb477d182",
       "version_major": 2,
       "version_minor": 0
      },
      "text/plain": [
       "Map:   0%|          | 0/1226 [00:00<?, ? examples/s]"
      ]
     },
     "metadata": {},
     "output_type": "display_data"
    },
    {
     "data": {
      "application/vnd.jupyter.widget-view+json": {
       "model_id": "e5d677be287d4163bef2930dd6d4590c",
       "version_major": 2,
       "version_minor": 0
      },
      "text/plain": [
       "Creating parquet from Arrow format:   0%|          | 0/13 [00:00<?, ?ba/s]"
      ]
     },
     "metadata": {},
     "output_type": "display_data"
    },
    {
     "data": {
      "application/vnd.jupyter.widget-view+json": {
       "model_id": "1d9b8bf9ea3c4fe281e312d5f961543c",
       "version_major": 2,
       "version_minor": 0
      },
      "text/plain": [
       "Map:   0%|          | 0/1226 [00:00<?, ? examples/s]"
      ]
     },
     "metadata": {},
     "output_type": "display_data"
    },
    {
     "data": {
      "application/vnd.jupyter.widget-view+json": {
       "model_id": "add18530124049a1bff881519055412e",
       "version_major": 2,
       "version_minor": 0
      },
      "text/plain": [
       "Creating parquet from Arrow format:   0%|          | 0/13 [00:00<?, ?ba/s]"
      ]
     },
     "metadata": {},
     "output_type": "display_data"
    },
    {
     "data": {
      "application/vnd.jupyter.widget-view+json": {
       "model_id": "30d6d3bc6ae24031a6ce5752056e8a86",
       "version_major": 2,
       "version_minor": 0
      },
      "text/plain": [
       "Map:   0%|          | 0/1226 [00:00<?, ? examples/s]"
      ]
     },
     "metadata": {},
     "output_type": "display_data"
    },
    {
     "data": {
      "application/vnd.jupyter.widget-view+json": {
       "model_id": "78b8fcd0995b48fcbedd71984781e89d",
       "version_major": 2,
       "version_minor": 0
      },
      "text/plain": [
       "Creating parquet from Arrow format:   0%|          | 0/13 [00:00<?, ?ba/s]"
      ]
     },
     "metadata": {},
     "output_type": "display_data"
    },
    {
     "data": {
      "application/vnd.jupyter.widget-view+json": {
       "model_id": "ec07df44e6ba43d18a52de2d0e75f426",
       "version_major": 2,
       "version_minor": 0
      },
      "text/plain": [
       "Map:   0%|          | 0/1226 [00:00<?, ? examples/s]"
      ]
     },
     "metadata": {},
     "output_type": "display_data"
    },
    {
     "data": {
      "application/vnd.jupyter.widget-view+json": {
       "model_id": "63a00d3df2a7453c8f809d2b2eb63466",
       "version_major": 2,
       "version_minor": 0
      },
      "text/plain": [
       "Creating parquet from Arrow format:   0%|          | 0/13 [00:00<?, ?ba/s]"
      ]
     },
     "metadata": {},
     "output_type": "display_data"
    },
    {
     "data": {
      "application/vnd.jupyter.widget-view+json": {
       "model_id": "2075d15a41034035a62e9ea63320a8c3",
       "version_major": 2,
       "version_minor": 0
      },
      "text/plain": [
       "Map:   0%|          | 0/1225 [00:00<?, ? examples/s]"
      ]
     },
     "metadata": {},
     "output_type": "display_data"
    },
    {
     "data": {
      "application/vnd.jupyter.widget-view+json": {
       "model_id": "ffe154c8ce8649d699c9481b51a0d91f",
       "version_major": 2,
       "version_minor": 0
      },
      "text/plain": [
       "Creating parquet from Arrow format:   0%|          | 0/13 [00:00<?, ?ba/s]"
      ]
     },
     "metadata": {},
     "output_type": "display_data"
    },
    {
     "data": {
      "application/vnd.jupyter.widget-view+json": {
       "model_id": "d24f15b099964c7f85a2364cbe9c9d6b",
       "version_major": 2,
       "version_minor": 0
      },
      "text/plain": [
       "README.md:   0%|          | 0.00/737 [00:00<?, ?B/s]"
      ]
     },
     "metadata": {},
     "output_type": "display_data"
    },
    {
     "data": {
      "text/plain": [
       "CommitInfo(commit_url='https://huggingface.co/datasets/ogarcia2/web_scraper_dataset_2/commit/d3d27c8fb2ec7cd08c48df7375d1e07d75d4fcb2', commit_message='Upload dataset', commit_description='', oid='d3d27c8fb2ec7cd08c48df7375d1e07d75d4fcb2', pr_url=None, repo_url=RepoUrl('https://huggingface.co/datasets/ogarcia2/web_scraper_dataset_2', endpoint='https://huggingface.co', repo_type='dataset', repo_id='ogarcia2/web_scraper_dataset_2'), pr_revision=None, pr_num=None)"
      ]
     },
     "execution_count": 7,
     "metadata": {},
     "output_type": "execute_result"
    }
   ],
   "source": [
    "from huggingface_hub import HfApi, login\n",
    "from datasets import load_dataset\n",
    "\n",
    "# Log in to Hugging Face Hub\n",
    "login(token=\"hf_TOKEN_REMOVED")\n",
    "\n",
    "# Set up HuggingFace API and push\n",
    "username = \"ogarcia2\"\n",
    "repo_name = \"web_scraper_dataset_2\"\n",
    "\n",
    "api = HfApi()\n",
    "api.create_repo(repo_id=f\"{username}/{repo_name}\", repo_type=\"dataset\", exist_ok=True)\n",
    "\n",
    "# Load the dataset with parallel processing\n",
    "dataset = load_dataset(\"agentsea/wave-ui-25k\", num_proc=16)\n",
    "\n",
    "# Filter the 'train' split of the dataset\n",
    "filtered_train = dataset[\"train\"].filter(\n",
    "    lambda x: x['language'] is not None \n",
    "    and 'English' in x['language']\n",
    "    and x['platform'] is not None \n",
    "    and 'web' in x['platform'],\n",
    "    num_proc=16\n",
    ")\n",
    "\n",
    "# Now, you have the 'train' split as a filtered dataset\n",
    "print(filtered_train.column_names)\n",
    "\n",
    "# Apply text formatting\n",
    "filtered_train_formatted = filtered_train.map(lambda x: {\n",
    "    \"texts\": format_instruction(x)\n",
    "})\n",
    "\n",
    "# Rename 'image' column to 'images' BEFORE resizing\n",
    "filtered_train_formatted = filtered_train_formatted.rename_column(\"image\", \"images\")\n",
    "\n",
    "# ✅ Resize images AFTER renaming 'image' to 'images'\n",
    "filtered_train_formatted = filtered_train_formatted.map(resize_with_aspect_limit, num_proc=16)\n",
    "\n",
    "# Drop unneeded columns\n",
    "filtered_train_formatted = filtered_train_formatted.remove_columns([ \n",
    "    'instruction', 'bbox', 'resolution', 'source', 'platform', 'name', \n",
    "    'description', 'type', 'OCR', 'language', 'purpose', 'expectation'\n",
    "])\n",
    "\n",
    "# Print the final column names\n",
    "print(filtered_train_formatted.column_names)\n",
    "\n",
    "# Print a sample of the filtered data\n",
    "sample = filtered_train_formatted.shuffle(seed=42).select(range(5))\n",
    "print(\"\\nSample of filtered data:\")\n",
    "print(sample)\n",
    "\n",
    "# Push to Hugging Face Hub\n",
    "filtered_train_formatted.push_to_hub(f\"{username}/{repo_name}\")\n"
   ]
  },
  {
   "cell_type": "code",
   "execution_count": null,
   "metadata": {},
   "outputs": [],
   "source": []
  },
  {
   "cell_type": "code",
   "execution_count": null,
   "metadata": {},
   "outputs": [],
   "source": []
  },
  {
   "cell_type": "code",
   "execution_count": null,
   "metadata": {},
   "outputs": [],
   "source": []
  },
  {
   "cell_type": "code",
   "execution_count": null,
   "metadata": {},
   "outputs": [],
   "source": []
  }
 ],
 "metadata": {
  "kernelspec": {
   "display_name": "Python 3 (ipykernel)",
   "language": "python",
   "name": "python3"
  },
  "language_info": {
   "codemirror_mode": {
    "name": "ipython",
    "version": 3
   },
   "file_extension": ".py",
   "mimetype": "text/x-python",
   "name": "python",
   "nbconvert_exporter": "python",
   "pygments_lexer": "ipython3",
   "version": "3.11.9"
  }
 },
 "nbformat": 4,
 "nbformat_minor": 4
}
