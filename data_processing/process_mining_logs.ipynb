{
 "cells": [
  {
   "cell_type": "code",
   "execution_count": 1,
   "id": "cc569b20",
   "metadata": {},
   "outputs": [
    {
     "name": "stderr",
     "output_type": "stream",
     "text": [
      "/Volumes/FLASHDRIVE/visual-data-mining/.venv/lib/python3.12/site-packages/tqdm/auto.py:21: TqdmWarning: IProgress not found. Please update jupyter and ipywidgets. See https://ipywidgets.readthedocs.io/en/stable/user_install.html\n",
      "  from .autonotebook import tqdm as notebook_tqdm\n"
     ]
    }
   ],
   "source": [
    "import json\n",
    "import re\n",
    "from pathlib import Path\n",
    "from PIL import Image\n",
    "from IPython.display import display\n",
    "from datetime import datetime\n",
    "from datasets import Dataset"
   ]
  },
  {
   "cell_type": "code",
   "execution_count": 2,
   "id": "601a6e54",
   "metadata": {},
   "outputs": [
    {
     "name": "stdout",
     "output_type": "stream",
     "text": [
      "number of screenshots:  257\n"
     ]
    }
   ],
   "source": [
    "# Put screenshots into a list of [datetime, path_to_image]\n",
    "# Make sure the list is sorted by datetime\n",
    "\n",
    "# Directory path\n",
    "screenshots_dir = Path('../mining/logs/screenshots')\n",
    "\n",
    "# Regular expression to match timestamp patterns like 20250424_173019_991476 in the screenshot name\n",
    "timestamp_pattern = re.compile(r'\\d{8}_\\d{6}_\\d{6}')\n",
    "\n",
    "# Store (datetime, path) pairs\n",
    "images_with_timestamps = []\n",
    "\n",
    "for image_path in screenshots_dir.iterdir():\n",
    "    # if image_path.is_file() and image_path.suffix.lower() in ('.png', '.jpg', '.jpeg', '.gif'):\n",
    "    if image_path.is_file() and image_path.suffix.lower() in ('.jpg'):\n",
    "        # Extract filename\n",
    "        filename = image_path.name\n",
    "\n",
    "        # Search for the timestamp\n",
    "        match = timestamp_pattern.search(filename)\n",
    "        if match:\n",
    "            timestamp_str = match.group()\n",
    "            # print(f\"Image: {filename} | Timestamp: {timestamp_str}\")\n",
    "\n",
    "            # Convert the string to a datetime object\n",
    "            dt = datetime.strptime(timestamp_str, '%Y%m%d_%H%M%S_%f')\n",
    "            # print(f\"Datetime Object: {dt}\")\n",
    "\n",
    "            images_with_timestamps.append((dt, image_path))\n",
    "\n",
    "            # Open and display image\n",
    "            # img = Image.open(image_path)\n",
    "            # display(img)\n",
    "        else:\n",
    "            print(f\"No timestamp found in {filename}\")\n",
    "\n",
    "# Sort the list in-place by datetime\n",
    "images_with_timestamps.sort(key=lambda x: x[0])\n",
    "\n",
    "print(\"number of screenshots: \", len(images_with_timestamps))"
   ]
  },
  {
   "cell_type": "code",
   "execution_count": 3,
   "id": "0053bde0",
   "metadata": {},
   "outputs": [
    {
     "name": "stdout",
     "output_type": "stream",
     "text": [
      "Click at 2025-04-28 17:02:08.530037 matched with screenshot taken at 2025-04-28 17:02:08.452197\n",
      "Click at 2025-04-28 17:02:10.646456 matched with screenshot taken at 2025-04-28 17:02:10.530986\n",
      "Click at 2025-04-28 17:02:15.363940 matched with screenshot taken at 2025-04-28 17:02:15.223790\n",
      "Click at 2025-04-28 17:02:16.578514 matched with screenshot taken at 2025-04-28 17:02:16.304256\n",
      "Click at 2025-04-28 17:02:17.466413 matched with screenshot taken at 2025-04-28 17:02:17.262577\n"
     ]
    },
    {
     "name": "stderr",
     "output_type": "stream",
     "text": [
      "Saving the dataset (1/1 shards): 100%|██████████| 5/5 [00:00<00:00, 38.44 examples/s]"
     ]
    },
    {
     "name": "stdout",
     "output_type": "stream",
     "text": [
      "Dataset saved to disk!\n"
     ]
    },
    {
     "name": "stderr",
     "output_type": "stream",
     "text": [
      "\n"
     ]
    }
   ],
   "source": [
    "# Go through the sanitized json log, find click events, and match them with the\n",
    "# screenshot right before\n",
    "# store everything in a new JSON\n",
    "\n",
    "sanitized_dir = Path('../mining/logs/sanitized_json')\n",
    "\n",
    "# TODO: go through all sanitized jsons\n",
    "# TODO: group by session and add session prompt to json\n",
    "\n",
    "# Load the JSON file\n",
    "json_path = sanitized_dir / Path('sanitized_20250428_170208_0001.json')\n",
    "\n",
    "with open(json_path, 'r') as f:\n",
    "    data = json.load(f)\n",
    "\n",
    "click_events = [\n",
    "    event for event in data['events'] if event['event'] == 'MOUSE' and event['event_type'] == 'SINGLE_CLICK'\n",
    "]\n",
    "\n",
    "# For each click, find the nearest screenshot before it\n",
    "screenshot_idx = 0\n",
    "last_valid_screenshot = None\n",
    "matches = []\n",
    "\n",
    "for click_event in click_events:\n",
    "    click_time = datetime.fromisoformat(click_event['timestamp'])\n",
    "\n",
    "    # Move screenshot pointer forward as long as the screenshot time is <= click time\n",
    "    while (screenshot_idx < len(images_with_timestamps) and\n",
    "           images_with_timestamps[screenshot_idx][0] <= click_time):\n",
    "        last_valid_screenshot = images_with_timestamps[screenshot_idx]\n",
    "        screenshot_idx += 1\n",
    "\n",
    "    if last_valid_screenshot:\n",
    "        match = {\n",
    "            \"click_timestamp\": click_time.isoformat(),\n",
    "            \"click_x\": click_event[\"x\"],\n",
    "            \"click_y\": click_event[\"y\"],\n",
    "            \"matched_screenshot_timestamp\": last_valid_screenshot[0].isoformat(),\n",
    "            \"matched_screenshot_filename\": last_valid_screenshot[1].name\n",
    "        }\n",
    "        matches.append(match)\n",
    "        print(f\"Click at {click_time} matched with screenshot taken at {last_valid_screenshot[0]}\")\n",
    "        # img = Image.open(last_valid_screenshot[1])\n",
    "        # display(img)\n",
    "    else:\n",
    "        print(f\"No screenshot before click at {click_time}\")\n",
    "\n",
    "\n",
    "# Convert to Hugging Face Dataset\n",
    "hf_dataset = Dataset.from_list(matches)\n",
    "\n",
    "# Save to disk\n",
    "hf_dataset.save_to_disk('../data/processed/hf_click_image_dataset')\n",
    "print(\"Dataset saved to disk!\")\n",
    "\n",
    "\n",
    "# # Save to a JSON file\n",
    "# output_path = Path('../data/processed/matched_clicks.json')\n",
    "\n",
    "# with open(output_path, 'w') as f:\n",
    "#     json.dump(matches, f, indent=4)\n",
    "\n",
    "# print(f\"Saved {len(matches)} matches to {output_path}\")\n"
   ]
  }
 ],
 "metadata": {
  "kernelspec": {
   "display_name": ".venv",
   "language": "python",
   "name": "python3"
  },
  "language_info": {
   "codemirror_mode": {
    "name": "ipython",
    "version": 3
   },
   "file_extension": ".py",
   "mimetype": "text/x-python",
   "name": "python",
   "nbconvert_exporter": "python",
   "pygments_lexer": "ipython3",
   "version": "3.12.0"
  }
 },
 "nbformat": 4,
 "nbformat_minor": 5
}
