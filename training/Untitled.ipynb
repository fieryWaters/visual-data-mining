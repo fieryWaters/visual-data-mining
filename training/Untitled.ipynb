{
 "cells": [
  {
   "cell_type": "code",
   "execution_count": 1,
   "id": "e424d0cf-8719-423a-bb2e-41cf72573c09",
   "metadata": {},
   "outputs": [
    {
     "name": "stdout",
     "output_type": "stream",
     "text": [
      "Python 3.11.9\n",
      "total 48\n",
      "drwxr-xr-x 5 1989098223 1954200513 3072 Nov  1 22:23 .\n",
      "drwxr-xr-x 7 1989098223 1954200513 5120 Nov  1 22:19 ..\n",
      "drwxr-xr-x 2 1989098223 1954200513  512 Nov  1 21:24 .ipynb_checkpoints\n",
      "-rw-r--r-- 1 1989098223 1954200513 8042 Oct 27 22:53 llama_3.2_lora.py\n",
      "drwxr-xr-x 2 1989098223 1954200513  512 Oct 26 20:05 llama-vision-ui-checkpoint\n",
      "drwxr-xr-x 2 1989098223 1954200513  512 Oct 26 20:36 llama-vision-ui-checkpoint-full\n",
      "-rw-r--r-- 1 1989098223 1954200513  212 Oct 26 20:23 test.txt\n",
      "-rw-r--r-- 1 1989098223 1954200513 6410 Nov  1 22:23 Untitled.ipynb\n",
      "Sun Nov  3 21:40:34 2024       \n",
      "+-----------------------------------------------------------------------------------------+\n",
      "| NVIDIA-SMI 550.54.14              Driver Version: 550.54.14      CUDA Version: 12.4     |\n",
      "|-----------------------------------------+------------------------+----------------------+\n",
      "| GPU  Name                 Persistence-M | Bus-Id          Disp.A | Volatile Uncorr. ECC |\n",
      "| Fan  Temp   Perf          Pwr:Usage/Cap |           Memory-Usage | GPU-Util  Compute M. |\n",
      "|                                         |                        |               MIG M. |\n",
      "|=========================================+========================+======================|\n",
      "|   0  NVIDIA A100 80GB PCIe          Off |   00000000:02:00.0 Off |                    0 |\n",
      "| N/A   62C    P0            118W /  300W |    4243MiB /  81920MiB |     44%      Default |\n",
      "|                                         |                        |             Disabled |\n",
      "+-----------------------------------------+------------------------+----------------------+\n",
      "|   1  NVIDIA A100 80GB PCIe          Off |   00000000:64:00.0 Off |                    0 |\n",
      "| N/A   31C    P0             42W /  300W |       3MiB /  81920MiB |      0%      Default |\n",
      "|                                         |                        |             Disabled |\n",
      "+-----------------------------------------+------------------------+----------------------+\n",
      "|   2  NVIDIA A100 80GB PCIe          Off |   00000000:82:00.0 Off |                    0 |\n",
      "| N/A   33C    P0             44W /  300W |       3MiB /  81920MiB |      0%      Default |\n",
      "|                                         |                        |             Disabled |\n",
      "+-----------------------------------------+------------------------+----------------------+\n",
      "|   3  NVIDIA A100 80GB PCIe          Off |   00000000:E3:00.0 Off |                    0 |\n",
      "| N/A   32C    P0             40W /  300W |       3MiB /  81920MiB |      0%      Default |\n",
      "|                                         |                        |             Disabled |\n",
      "+-----------------------------------------+------------------------+----------------------+\n",
      "                                                                                         \n",
      "+-----------------------------------------------------------------------------------------+\n",
      "| Processes:                                                                              |\n",
      "|  GPU   GI   CI        PID   Type   Process name                              GPU Memory |\n",
      "|        ID   ID                                                               Usage      |\n",
      "|=========================================================================================|\n",
      "|    0   N/A  N/A    488426      C   ...14/.conda/envs/ili-torch/bin/python       4234MiB |\n",
      "+-----------------------------------------------------------------------------------------+\n"
     ]
    }
   ],
   "source": [
    "!python3 --version\n",
    "!ls -al\n",
    "!nvidia-smi"
   ]
  },
  {
   "cell_type": "code",
   "execution_count": null,
   "id": "76e88685-47cb-4a35-a589-0d6a7cbc28bb",
   "metadata": {},
   "outputs": [],
   "source": [
    "ls\n"
   ]
  }
 ],
 "metadata": {
  "kernelspec": {
   "display_name": "Python 3 (ipykernel)",
   "language": "python",
   "name": "python3"
  },
  "language_info": {
   "codemirror_mode": {
    "name": "ipython",
    "version": 3
   },
   "file_extension": ".py",
   "mimetype": "text/x-python",
   "name": "python",
   "nbconvert_exporter": "python",
   "pygments_lexer": "ipython3",
   "version": "3.11.9"
  }
 },
 "nbformat": 4,
 "nbformat_minor": 5
}
