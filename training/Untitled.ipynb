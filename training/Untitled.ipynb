{
 "cells": [
  {
   "cell_type": "code",
   "execution_count": 1,
   "id": "e424d0cf-8719-423a-bb2e-41cf72573c09",
   "metadata": {},
   "outputs": [
    {
     "name": "stdout",
     "output_type": "stream",
     "text": [
      "Python 3.11.9\n",
      "total 120\n",
      "drwxr-xr-x 8 1989066816 1954200513  5632 Nov 21 21:36 .\n",
      "drwxr-xr-x 9 1989066816 1954200513  7168 Nov  6 21:19 ..\n",
      "drwxr-xr-x 2 1989066816 1954200513     0 Nov  5 23:44 button-detection-model\n",
      "drwxr-xr-x 5 1989066816 1954200513  1536 Nov 15 14:40 button-detector\n",
      "drwxr-xr-x 2 1989066816 1954200513  6144 Nov  7 12:01 button-detector-final\n",
      "-rw-r--r-- 1 1989066816 1954200513 30742 Nov 21 21:36 cellCode-Copy1.ipynb\n",
      "drwxr-xr-x 2 1989066816 1954200513  2560 Nov 21 21:34 .ipynb_checkpoints\n",
      "-rw-r--r-- 1 1989066816 1954200513  8042 Nov  3 23:16 llama_3.2_lora.py\n",
      "drwxr-xr-x 3 1989066816 1954200513  1024 Nov  5 23:20 llama-vision-ui-checkpoint\n",
      "drwxr-xr-x 2 1989066816 1954200513   512 Nov  3 23:16 llama-vision-ui-checkpoint-full\n",
      "-rw-r--r-- 1 1989066816 1954200513 16925 Nov 15 14:42 main.ipynb\n",
      "-rw-r--r-- 1 1989066816 1954200513   212 Nov  3 23:16 test.txt\n",
      "-rw-r--r-- 1 1989066816 1954200513  4865 Nov 14 22:28 Untitled.ipynb\n",
      "Thu Nov 21 21:37:08 2024       \n",
      "+-----------------------------------------------------------------------------------------+\n",
      "| NVIDIA-SMI 550.54.14              Driver Version: 550.54.14      CUDA Version: 12.4     |\n",
      "|-----------------------------------------+------------------------+----------------------+\n",
      "| GPU  Name                 Persistence-M | Bus-Id          Disp.A | Volatile Uncorr. ECC |\n",
      "| Fan  Temp   Perf          Pwr:Usage/Cap |           Memory-Usage | GPU-Util  Compute M. |\n",
      "|                                         |                        |               MIG M. |\n",
      "|=========================================+========================+======================|\n",
      "|   0  NVIDIA A100 80GB PCIe          Off |   00000000:02:00.0 Off |                    0 |\n",
      "| N/A   43C    P0             70W /  300W |    4891MiB /  81920MiB |      0%      Default |\n",
      "|                                         |                        |             Disabled |\n",
      "+-----------------------------------------+------------------------+----------------------+\n",
      "|   1  NVIDIA A100 80GB PCIe          Off |   00000000:64:00.0 Off |                    0 |\n",
      "| N/A   42C    P0             67W /  300W |    5885MiB /  81920MiB |      0%      Default |\n",
      "|                                         |                        |             Disabled |\n",
      "+-----------------------------------------+------------------------+----------------------+\n",
      "|   2  NVIDIA A100 80GB PCIe          Off |   00000000:82:00.0 Off |                    0 |\n",
      "| N/A   44C    P0             69W /  300W |    5885MiB /  81920MiB |      0%      Default |\n",
      "|                                         |                        |             Disabled |\n",
      "+-----------------------------------------+------------------------+----------------------+\n",
      "|   3  NVIDIA A100 80GB PCIe          Off |   00000000:E3:00.0 Off |                    0 |\n",
      "| N/A   44C    P0             62W /  300W |    5687MiB /  81920MiB |      0%      Default |\n",
      "|                                         |                        |             Disabled |\n",
      "+-----------------------------------------+------------------------+----------------------+\n",
      "                                                                                         \n",
      "+-----------------------------------------------------------------------------------------+\n",
      "| Processes:                                                                              |\n",
      "|  GPU   GI   CI        PID   Type   Process name                              GPU Memory |\n",
      "|        ID   ID                                                               Usage      |\n",
      "|=========================================================================================|\n",
      "|    0   N/A  N/A    104381      C   ...v_visual_data_mining/bin/python3.11       4882MiB |\n",
      "|    1   N/A  N/A    104381      C   ...v_visual_data_mining/bin/python3.11       5876MiB |\n",
      "|    2   N/A  N/A    104381      C   ...v_visual_data_mining/bin/python3.11       5876MiB |\n",
      "|    3   N/A  N/A    104381      C   ...v_visual_data_mining/bin/python3.11       5678MiB |\n",
      "+-----------------------------------------------------------------------------------------+\n"
     ]
    }
   ],
   "source": [
    "!python3 --version\n",
    "!ls -al\n",
    "!nvidia-smi"
   ]
  },
  {
   "cell_type": "code",
   "execution_count": 2,
   "id": "76e88685-47cb-4a35-a589-0d6a7cbc28bb",
   "metadata": {},
   "outputs": [
    {
     "name": "stdout",
     "output_type": "stream",
     "text": [
      "\u001b[0m\u001b[01;34mbutton-detection-model\u001b[0m/  llama_3.2_lora.py                 test.txt\n",
      "\u001b[01;34mbutton-detector\u001b[0m/         \u001b[01;34mllama-vision-ui-checkpoint\u001b[0m/       Untitled.ipynb\n",
      "\u001b[01;34mbutton-detector-final\u001b[0m/   \u001b[01;34mllama-vision-ui-checkpoint-full\u001b[0m/\n",
      "cellCode-Copy1.ipynb     main.ipynb\n"
     ]
    }
   ],
   "source": [
    "ls\n"
   ]
  }
 ],
 "metadata": {
  "kernelspec": {
   "display_name": "Python 3 (ipykernel)",
   "language": "python",
   "name": "python3"
  },
  "language_info": {
   "codemirror_mode": {
    "name": "ipython",
    "version": 3
   },
   "file_extension": ".py",
   "mimetype": "text/x-python",
   "name": "python",
   "nbconvert_exporter": "python",
   "pygments_lexer": "ipython3",
   "version": "3.11.9"
  }
 },
 "nbformat": 4,
 "nbformat_minor": 5
}
